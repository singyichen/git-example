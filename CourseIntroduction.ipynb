{
 "cells": [
  {
   "cell_type": "markdown",
   "metadata": {},
   "source": []
  },
  {
   "cell_type": "markdown",
   "metadata": {},
   "source": [
    "# Course Introduction"
   ]
  },
  {
   "cell_type": "markdown",
   "metadata": {},
   "source": [
    "### 1.機器學習就是自動找函式，機器會自動找出loss最低的函式\n",
    "### 2.找函式的目的是什麼，依照不同的目的有不同的做法\n",
    "#### (1) Regression：輸出是數值\n",
    "#### (2) Classification：分類\n",
    "##### Binary(Yes or No)\n",
    "##### Multi-class(多選擇)\n",
    "#### (3) Generation：生成，產生有結構的複雜東西，學習做創造\n",
    "### 3.函式的loss：判定函式的好壞，越小越好，越接近理想的函式\n",
    "### 4.機器如何找到理想的函式：\n",
    "#### (1) 給定函式尋找範圍：Linear、Network Architecture\n",
    "#### (2) 函式尋找方法：Gradient Descent\n",
    "### 5.訓練與測試資料：要有相同的Description"
   ]
  },
  {
   "cell_type": "markdown",
   "metadata": {},
   "source": [
    "* 機器學習(Machine Learning)比較注重模型的預測能力: 在做機器學習的時候，我們比較注重於調參&嘗試各種複雜的模型(複雜的模型預測能力好，可是較不易解釋模型為何是建成那個樣)。"
   ]
  },
  {
   "cell_type": "markdown",
   "metadata": {},
   "source": []
  },
  {
   "cell_type": "markdown",
   "metadata": {},
   "source": []
  },
  {
   "cell_type": "markdown",
   "metadata": {},
   "source": []
  },
  {
   "cell_type": "code",
   "execution_count": null,
   "metadata": {},
   "outputs": [],
   "source": []
  }
 ],
 "metadata": {
  "kernelspec": {
   "display_name": "Python 3",
   "language": "python",
   "name": "python3"
  },
  "language_info": {
   "codemirror_mode": {
    "name": "ipython",
    "version": 3
   },
   "file_extension": ".py",
   "mimetype": "text/x-python",
   "name": "python",
   "nbconvert_exporter": "python",
   "pygments_lexer": "ipython3",
   "version": "3.7.3"
  }
 },
 "nbformat": 4,
 "nbformat_minor": 4
}
